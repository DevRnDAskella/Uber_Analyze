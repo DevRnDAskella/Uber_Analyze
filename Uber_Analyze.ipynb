{
 "cells": [
  {
   "metadata": {},
   "cell_type": "markdown",
   "source": "## Imports",
   "id": "772fe457c35654b8"
  },
  {
   "cell_type": "code",
   "id": "initial_id",
   "metadata": {
    "collapsed": true,
    "ExecuteTime": {
     "end_time": "2024-04-15T19:06:27.311451Z",
     "start_time": "2024-04-15T19:06:27.305776Z"
    }
   },
   "source": [
    "# imports libraries\n",
    "import pandas as pd\n",
    "import numpy as np\n",
    "import seaborn as sns\n",
    "import matplotlib.pyplot as plt\n",
    "import warnings\n",
    "\n",
    "warnings.filterwarnings('ignore')"
   ],
   "outputs": [],
   "execution_count": 340
  },
  {
   "metadata": {
    "ExecuteTime": {
     "end_time": "2024-04-15T19:06:27.479090Z",
     "start_time": "2024-04-15T19:06:27.471167Z"
    }
   },
   "cell_type": "code",
   "source": [
    "# read dataset\n",
    "df = pd.read_csv('dataset.csv')"
   ],
   "id": "d073e189df700267",
   "outputs": [],
   "execution_count": 341
  },
  {
   "metadata": {},
   "cell_type": "markdown",
   "source": "## EDA",
   "id": "b02398ee14fb51dc"
  },
  {
   "metadata": {
    "ExecuteTime": {
     "end_time": "2024-04-15T19:06:27.502661Z",
     "start_time": "2024-04-15T19:06:27.490097Z"
    }
   },
   "cell_type": "code",
   "source": "df.head(5)",
   "id": "da3b6582ea2bbda5",
   "outputs": [
    {
     "data": {
      "text/plain": [
       "        Date  Time (Local)  Eyeballs   Zeroes   Completed Trips   Requests   \\\n",
       "0  10-Sep-12             7          5        0                 2          2   \n",
       "1        NaN             8          6        0                 2          2   \n",
       "2        NaN             9          8        3                 0          0   \n",
       "3        NaN            10          9        2                 0          1   \n",
       "4        NaN            11         11        1                 4          4   \n",
       "\n",
       "   Unique Drivers  \n",
       "0               9  \n",
       "1              14  \n",
       "2              14  \n",
       "3              14  \n",
       "4              11  "
      ],
      "text/html": [
       "<div>\n",
       "<style scoped>\n",
       "    .dataframe tbody tr th:only-of-type {\n",
       "        vertical-align: middle;\n",
       "    }\n",
       "\n",
       "    .dataframe tbody tr th {\n",
       "        vertical-align: top;\n",
       "    }\n",
       "\n",
       "    .dataframe thead th {\n",
       "        text-align: right;\n",
       "    }\n",
       "</style>\n",
       "<table border=\"1\" class=\"dataframe\">\n",
       "  <thead>\n",
       "    <tr style=\"text-align: right;\">\n",
       "      <th></th>\n",
       "      <th>Date</th>\n",
       "      <th>Time (Local)</th>\n",
       "      <th>Eyeballs</th>\n",
       "      <th>Zeroes</th>\n",
       "      <th>Completed Trips</th>\n",
       "      <th>Requests</th>\n",
       "      <th>Unique Drivers</th>\n",
       "    </tr>\n",
       "  </thead>\n",
       "  <tbody>\n",
       "    <tr>\n",
       "      <th>0</th>\n",
       "      <td>10-Sep-12</td>\n",
       "      <td>7</td>\n",
       "      <td>5</td>\n",
       "      <td>0</td>\n",
       "      <td>2</td>\n",
       "      <td>2</td>\n",
       "      <td>9</td>\n",
       "    </tr>\n",
       "    <tr>\n",
       "      <th>1</th>\n",
       "      <td>NaN</td>\n",
       "      <td>8</td>\n",
       "      <td>6</td>\n",
       "      <td>0</td>\n",
       "      <td>2</td>\n",
       "      <td>2</td>\n",
       "      <td>14</td>\n",
       "    </tr>\n",
       "    <tr>\n",
       "      <th>2</th>\n",
       "      <td>NaN</td>\n",
       "      <td>9</td>\n",
       "      <td>8</td>\n",
       "      <td>3</td>\n",
       "      <td>0</td>\n",
       "      <td>0</td>\n",
       "      <td>14</td>\n",
       "    </tr>\n",
       "    <tr>\n",
       "      <th>3</th>\n",
       "      <td>NaN</td>\n",
       "      <td>10</td>\n",
       "      <td>9</td>\n",
       "      <td>2</td>\n",
       "      <td>0</td>\n",
       "      <td>1</td>\n",
       "      <td>14</td>\n",
       "    </tr>\n",
       "    <tr>\n",
       "      <th>4</th>\n",
       "      <td>NaN</td>\n",
       "      <td>11</td>\n",
       "      <td>11</td>\n",
       "      <td>1</td>\n",
       "      <td>4</td>\n",
       "      <td>4</td>\n",
       "      <td>11</td>\n",
       "    </tr>\n",
       "  </tbody>\n",
       "</table>\n",
       "</div>"
      ]
     },
     "execution_count": 342,
     "metadata": {},
     "output_type": "execute_result"
    }
   ],
   "execution_count": 342
  },
  {
   "metadata": {
    "ExecuteTime": {
     "end_time": "2024-04-15T19:06:27.521570Z",
     "start_time": "2024-04-15T19:06:27.509671Z"
    }
   },
   "cell_type": "code",
   "source": "df.info()",
   "id": "86c13202c350e8f8",
   "outputs": [
    {
     "name": "stdout",
     "output_type": "stream",
     "text": [
      "<class 'pandas.core.frame.DataFrame'>\n",
      "RangeIndex: 336 entries, 0 to 335\n",
      "Data columns (total 7 columns):\n",
      " #   Column            Non-Null Count  Dtype \n",
      "---  ------            --------------  ----- \n",
      " 0   Date              15 non-null     object\n",
      " 1   Time (Local)      336 non-null    int64 \n",
      " 2   Eyeballs          336 non-null    int64 \n",
      " 3   Zeroes            336 non-null    int64 \n",
      " 4   Completed Trips   336 non-null    int64 \n",
      " 5   Requests          336 non-null    int64 \n",
      " 6   Unique Drivers    336 non-null    int64 \n",
      "dtypes: int64(6), object(1)\n",
      "memory usage: 18.5+ KB\n"
     ]
    }
   ],
   "execution_count": 343
  },
  {
   "metadata": {
    "ExecuteTime": {
     "end_time": "2024-04-15T19:06:27.578027Z",
     "start_time": "2024-04-15T19:06:27.571044Z"
    }
   },
   "cell_type": "code",
   "source": "df.shape",
   "id": "4d69d4453913f30e",
   "outputs": [
    {
     "data": {
      "text/plain": [
       "(336, 7)"
      ]
     },
     "execution_count": 344,
     "metadata": {},
     "output_type": "execute_result"
    }
   ],
   "execution_count": 344
  },
  {
   "metadata": {
    "ExecuteTime": {
     "end_time": "2024-04-15T19:06:27.608400Z",
     "start_time": "2024-04-15T19:06:27.601035Z"
    }
   },
   "cell_type": "code",
   "source": [
    "# show all columns\n",
    "df.columns"
   ],
   "id": "7687112706c458b0",
   "outputs": [
    {
     "data": {
      "text/plain": [
       "Index(['Date', 'Time (Local)', 'Eyeballs ', 'Zeroes ', 'Completed Trips ',\n",
       "       'Requests ', 'Unique Drivers'],\n",
       "      dtype='object')"
      ]
     },
     "execution_count": 345,
     "metadata": {},
     "output_type": "execute_result"
    }
   ],
   "execution_count": 345
  },
  {
   "metadata": {
    "ExecuteTime": {
     "end_time": "2024-04-15T19:06:27.663602Z",
     "start_time": "2024-04-15T19:06:27.658406Z"
    }
   },
   "cell_type": "code",
   "source": [
    "# Apply trim to all Headings\n",
    "df.columns = df.columns.str.strip()"
   ],
   "id": "3b1946fe435498ec",
   "outputs": [],
   "execution_count": 346
  },
  {
   "metadata": {
    "ExecuteTime": {
     "end_time": "2024-04-15T19:06:27.714433Z",
     "start_time": "2024-04-15T19:06:27.709612Z"
    }
   },
   "cell_type": "code",
   "source": [
    "# fill NaN values with the first value\n",
    "df['Date'] = df['Date'].ffill(axis=0)"
   ],
   "id": "588942fbb8ef8625",
   "outputs": [],
   "execution_count": 347
  },
  {
   "metadata": {
    "ExecuteTime": {
     "end_time": "2024-04-15T19:06:27.864328Z",
     "start_time": "2024-04-15T19:06:27.857607Z"
    }
   },
   "cell_type": "code",
   "source": [
    "# Convert object type to datetime\n",
    "df['Date'] = pd.to_datetime(df['Date'], format='%d-%b-%y')"
   ],
   "id": "203e3b268a49d226",
   "outputs": [],
   "execution_count": 348
  },
  {
   "metadata": {
    "ExecuteTime": {
     "end_time": "2024-04-15T19:06:27.915141Z",
     "start_time": "2024-04-15T19:06:27.905351Z"
    }
   },
   "cell_type": "code",
   "source": "df['Date'].value_counts()",
   "id": "1eb9f89eec873bc3",
   "outputs": [
    {
     "data": {
      "text/plain": [
       "Date\n",
       "2012-09-11    24\n",
       "2012-09-12    24\n",
       "2012-09-13    24\n",
       "2012-09-14    24\n",
       "2012-09-15    24\n",
       "2012-09-16    24\n",
       "2012-09-17    24\n",
       "2012-09-18    24\n",
       "2012-09-19    24\n",
       "2012-09-20    24\n",
       "2012-09-21    24\n",
       "2012-09-22    24\n",
       "2012-09-23    24\n",
       "2012-09-10    17\n",
       "2012-09-24     7\n",
       "Name: count, dtype: int64"
      ]
     },
     "execution_count": 349,
     "metadata": {},
     "output_type": "execute_result"
    }
   ],
   "execution_count": 349
  },
  {
   "metadata": {},
   "cell_type": "markdown",
   "source": "На 10 и 24 числа присутствуют не все данные за все сутки",
   "id": "5a278e2c8c80a4bc"
  },
  {
   "metadata": {},
   "cell_type": "markdown",
   "source": "## Analyze",
   "id": "edeb9726d973a440"
  },
  {
   "metadata": {},
   "cell_type": "markdown",
   "source": "#### # 1 - Выясним в какой день было совершено наибольшее кол-во поездок?",
   "id": "cd6dea284e536ede"
  },
  {
   "metadata": {
    "ExecuteTime": {
     "end_time": "2024-04-15T19:06:27.951848Z",
     "start_time": "2024-04-15T19:06:27.939164Z"
    }
   },
   "cell_type": "code",
   "source": "df.groupby('Date', as_index=False)['Completed Trips'].sum().nlargest(1, 'Completed Trips')",
   "id": "4415c7caf27a834a",
   "outputs": [
    {
     "data": {
      "text/plain": [
       "         Date  Completed Trips\n",
       "12 2012-09-22              248"
      ],
      "text/html": [
       "<div>\n",
       "<style scoped>\n",
       "    .dataframe tbody tr th:only-of-type {\n",
       "        vertical-align: middle;\n",
       "    }\n",
       "\n",
       "    .dataframe tbody tr th {\n",
       "        vertical-align: top;\n",
       "    }\n",
       "\n",
       "    .dataframe thead th {\n",
       "        text-align: right;\n",
       "    }\n",
       "</style>\n",
       "<table border=\"1\" class=\"dataframe\">\n",
       "  <thead>\n",
       "    <tr style=\"text-align: right;\">\n",
       "      <th></th>\n",
       "      <th>Date</th>\n",
       "      <th>Completed Trips</th>\n",
       "    </tr>\n",
       "  </thead>\n",
       "  <tbody>\n",
       "    <tr>\n",
       "      <th>12</th>\n",
       "      <td>2012-09-22</td>\n",
       "      <td>248</td>\n",
       "    </tr>\n",
       "  </tbody>\n",
       "</table>\n",
       "</div>"
      ]
     },
     "execution_count": 350,
     "metadata": {},
     "output_type": "execute_result"
    }
   ],
   "execution_count": 350
  },
  {
   "metadata": {},
   "cell_type": "markdown",
   "source": "*Как видим, 22 сентября 2012 года было совершено наибольшее кол-во поездок!*",
   "id": "131661710f246a6e"
  },
  {
   "metadata": {},
   "cell_type": "markdown",
   "source": "#### # 2 - Какое самое наибольшее количество поездок было совершено в течение 24 часов?",
   "id": "311478e95cde8b77"
  },
  {
   "metadata": {
    "ExecuteTime": {
     "end_time": "2024-04-15T19:06:28.200229Z",
     "start_time": "2024-04-15T19:06:27.978854Z"
    }
   },
   "cell_type": "code",
   "source": [
    "# define function to create timestamp from columns 'Date' and 'Time (Local)'\n",
    "def create_timestamp(date, time):\n",
    "    return pd.to_datetime(f'{date} {time}:00')\n",
    "\n",
    "\n",
    "# create Series Timestamp\n",
    "df['Timestamp'] = df.apply(lambda row: create_timestamp(row['Date'], row['Time (Local)']), axis=1)"
   ],
   "id": "da6647c75d0ee204",
   "outputs": [],
   "execution_count": 351
  },
  {
   "metadata": {
    "ExecuteTime": {
     "end_time": "2024-04-15T19:06:28.211844Z",
     "start_time": "2024-04-15T19:06:28.203237Z"
    }
   },
   "cell_type": "code",
   "source": [
    "# Create Index with fixed window frame\n",
    "indexer = pd.api.indexers.FixedForwardWindowIndexer(window_size=24)\n",
    "df_2 = df.set_index('Timestamp').select_dtypes(include=['number']).rolling(window=indexer, min_periods=1).sum()"
   ],
   "id": "e25d95d94bfe3251",
   "outputs": [],
   "execution_count": 352
  },
  {
   "metadata": {
    "ExecuteTime": {
     "end_time": "2024-04-15T19:06:28.225802Z",
     "start_time": "2024-04-15T19:06:28.214856Z"
    }
   },
   "cell_type": "code",
   "source": [
    "# Create Column Time Interval with string type\n",
    "time_format = '%Y-%m-%d %H:%M'\n",
    "df_2['Time Interval'] = df_2.index.strftime(time_format) + ' - ' + (df_2.index + pd.Timedelta('24 hours')).strftime(\n",
    "    time_format)"
   ],
   "id": "3119d650d687883e",
   "outputs": [],
   "execution_count": 353
  },
  {
   "metadata": {
    "ExecuteTime": {
     "end_time": "2024-04-15T19:06:28.238401Z",
     "start_time": "2024-04-15T19:06:28.228808Z"
    }
   },
   "cell_type": "code",
   "source": [
    "time_interval, completed_trips = df_2.nlargest(1, 'Completed Trips')[['Time Interval', 'Completed Trips']].iloc[0]\n",
    "print(f'В 24 часовой интервал {time_interval} было совершено наибольшее количество поездок - {completed_trips}')"
   ],
   "id": "1faf6957c640893",
   "outputs": [
    {
     "name": "stdout",
     "output_type": "stream",
     "text": [
      "В 24 часовой интервал 2012-09-21 17:00 - 2012-09-22 17:00 было совершено наибольшее количество поездок - 278.0\n"
     ]
    }
   ],
   "execution_count": 354
  },
  {
   "metadata": {},
   "cell_type": "markdown",
   "source": "#### # 3 - Выясним в какое время суток было больше всего запросов?",
   "id": "2e45704e0d5ca231"
  },
  {
   "metadata": {
    "ExecuteTime": {
     "end_time": "2024-04-15T19:06:28.253926Z",
     "start_time": "2024-04-15T19:06:28.241410Z"
    }
   },
   "cell_type": "code",
   "source": [
    "df_3 = df.groupby(['Time (Local)'], as_index=False).agg(avg_req_cnt=('Requests', 'mean')).sort_values('avg_req_cnt',\n",
    "                                                                                                      ascending=False)"
   ],
   "id": "ebff20b3f44b33d7",
   "outputs": [],
   "execution_count": 355
  },
  {
   "metadata": {
    "ExecuteTime": {
     "end_time": "2024-04-15T19:06:28.260851Z",
     "start_time": "2024-04-15T19:06:28.254935Z"
    }
   },
   "cell_type": "code",
   "source": [
    "# calculate percentage of avg_req_cnt by Time\n",
    "df_3['pct'] = df_3['avg_req_cnt'] / df_3['avg_req_cnt'].sum() * 100"
   ],
   "id": "9e13b92760fc8663",
   "outputs": [],
   "execution_count": 356
  },
  {
   "metadata": {
    "ExecuteTime": {
     "end_time": "2024-04-15T19:06:28.277300Z",
     "start_time": "2024-04-15T19:06:28.263859Z"
    }
   },
   "cell_type": "code",
   "source": [
    "# calculate cumulative sum in descending order of pct values\n",
    "df_3['cum_total'] = df_3['pct'].sort_values(ascending=False).cumsum()\n",
    "df_3"
   ],
   "id": "222ce4df572c3c5b",
   "outputs": [
    {
     "data": {
      "text/plain": [
       "    Time (Local)  avg_req_cnt       pct   cum_total\n",
       "23            23    13.142857  9.903122    9.903122\n",
       "22            22    12.428571  9.364909   19.268030\n",
       "19            19    11.142857  8.396125   27.664155\n",
       "0              0    10.142857  7.642626   35.306781\n",
       "18            18     8.500000  6.404736   41.711518\n",
       "21            21     8.000000  6.027987   47.739505\n",
       "20            20     7.642857  5.758881   53.498385\n",
       "2              2     7.142857  5.382131   58.880517\n",
       "17            17     7.000000  5.274489   64.155005\n",
       "1              1     6.857143  5.166846   69.321851\n",
       "16            16     5.857143  4.413348   73.735199\n",
       "14            14     5.071429  3.821313   81.377826\n",
       "15            15     5.071429  3.821313   77.556512\n",
       "13            13     3.928571  2.960172   84.337998\n",
       "12            12     3.785714  2.852530   87.190527\n",
       "11            11     3.357143  2.529602   89.720129\n",
       "3              3     2.500000  1.883746   91.603875\n",
       "8              8     2.071429  1.560818   93.164693\n",
       "10            10     2.000000  1.506997   94.671690\n",
       "6              6     2.000000  1.506997   96.178687\n",
       "9              9     1.857143  1.399354   97.578041\n",
       "7              7     1.571429  1.184069   98.762110\n",
       "5              5     1.000000  0.753498   99.515608\n",
       "4              4     0.642857  0.484392  100.000000"
      ],
      "text/html": [
       "<div>\n",
       "<style scoped>\n",
       "    .dataframe tbody tr th:only-of-type {\n",
       "        vertical-align: middle;\n",
       "    }\n",
       "\n",
       "    .dataframe tbody tr th {\n",
       "        vertical-align: top;\n",
       "    }\n",
       "\n",
       "    .dataframe thead th {\n",
       "        text-align: right;\n",
       "    }\n",
       "</style>\n",
       "<table border=\"1\" class=\"dataframe\">\n",
       "  <thead>\n",
       "    <tr style=\"text-align: right;\">\n",
       "      <th></th>\n",
       "      <th>Time (Local)</th>\n",
       "      <th>avg_req_cnt</th>\n",
       "      <th>pct</th>\n",
       "      <th>cum_total</th>\n",
       "    </tr>\n",
       "  </thead>\n",
       "  <tbody>\n",
       "    <tr>\n",
       "      <th>23</th>\n",
       "      <td>23</td>\n",
       "      <td>13.142857</td>\n",
       "      <td>9.903122</td>\n",
       "      <td>9.903122</td>\n",
       "    </tr>\n",
       "    <tr>\n",
       "      <th>22</th>\n",
       "      <td>22</td>\n",
       "      <td>12.428571</td>\n",
       "      <td>9.364909</td>\n",
       "      <td>19.268030</td>\n",
       "    </tr>\n",
       "    <tr>\n",
       "      <th>19</th>\n",
       "      <td>19</td>\n",
       "      <td>11.142857</td>\n",
       "      <td>8.396125</td>\n",
       "      <td>27.664155</td>\n",
       "    </tr>\n",
       "    <tr>\n",
       "      <th>0</th>\n",
       "      <td>0</td>\n",
       "      <td>10.142857</td>\n",
       "      <td>7.642626</td>\n",
       "      <td>35.306781</td>\n",
       "    </tr>\n",
       "    <tr>\n",
       "      <th>18</th>\n",
       "      <td>18</td>\n",
       "      <td>8.500000</td>\n",
       "      <td>6.404736</td>\n",
       "      <td>41.711518</td>\n",
       "    </tr>\n",
       "    <tr>\n",
       "      <th>21</th>\n",
       "      <td>21</td>\n",
       "      <td>8.000000</td>\n",
       "      <td>6.027987</td>\n",
       "      <td>47.739505</td>\n",
       "    </tr>\n",
       "    <tr>\n",
       "      <th>20</th>\n",
       "      <td>20</td>\n",
       "      <td>7.642857</td>\n",
       "      <td>5.758881</td>\n",
       "      <td>53.498385</td>\n",
       "    </tr>\n",
       "    <tr>\n",
       "      <th>2</th>\n",
       "      <td>2</td>\n",
       "      <td>7.142857</td>\n",
       "      <td>5.382131</td>\n",
       "      <td>58.880517</td>\n",
       "    </tr>\n",
       "    <tr>\n",
       "      <th>17</th>\n",
       "      <td>17</td>\n",
       "      <td>7.000000</td>\n",
       "      <td>5.274489</td>\n",
       "      <td>64.155005</td>\n",
       "    </tr>\n",
       "    <tr>\n",
       "      <th>1</th>\n",
       "      <td>1</td>\n",
       "      <td>6.857143</td>\n",
       "      <td>5.166846</td>\n",
       "      <td>69.321851</td>\n",
       "    </tr>\n",
       "    <tr>\n",
       "      <th>16</th>\n",
       "      <td>16</td>\n",
       "      <td>5.857143</td>\n",
       "      <td>4.413348</td>\n",
       "      <td>73.735199</td>\n",
       "    </tr>\n",
       "    <tr>\n",
       "      <th>14</th>\n",
       "      <td>14</td>\n",
       "      <td>5.071429</td>\n",
       "      <td>3.821313</td>\n",
       "      <td>81.377826</td>\n",
       "    </tr>\n",
       "    <tr>\n",
       "      <th>15</th>\n",
       "      <td>15</td>\n",
       "      <td>5.071429</td>\n",
       "      <td>3.821313</td>\n",
       "      <td>77.556512</td>\n",
       "    </tr>\n",
       "    <tr>\n",
       "      <th>13</th>\n",
       "      <td>13</td>\n",
       "      <td>3.928571</td>\n",
       "      <td>2.960172</td>\n",
       "      <td>84.337998</td>\n",
       "    </tr>\n",
       "    <tr>\n",
       "      <th>12</th>\n",
       "      <td>12</td>\n",
       "      <td>3.785714</td>\n",
       "      <td>2.852530</td>\n",
       "      <td>87.190527</td>\n",
       "    </tr>\n",
       "    <tr>\n",
       "      <th>11</th>\n",
       "      <td>11</td>\n",
       "      <td>3.357143</td>\n",
       "      <td>2.529602</td>\n",
       "      <td>89.720129</td>\n",
       "    </tr>\n",
       "    <tr>\n",
       "      <th>3</th>\n",
       "      <td>3</td>\n",
       "      <td>2.500000</td>\n",
       "      <td>1.883746</td>\n",
       "      <td>91.603875</td>\n",
       "    </tr>\n",
       "    <tr>\n",
       "      <th>8</th>\n",
       "      <td>8</td>\n",
       "      <td>2.071429</td>\n",
       "      <td>1.560818</td>\n",
       "      <td>93.164693</td>\n",
       "    </tr>\n",
       "    <tr>\n",
       "      <th>10</th>\n",
       "      <td>10</td>\n",
       "      <td>2.000000</td>\n",
       "      <td>1.506997</td>\n",
       "      <td>94.671690</td>\n",
       "    </tr>\n",
       "    <tr>\n",
       "      <th>6</th>\n",
       "      <td>6</td>\n",
       "      <td>2.000000</td>\n",
       "      <td>1.506997</td>\n",
       "      <td>96.178687</td>\n",
       "    </tr>\n",
       "    <tr>\n",
       "      <th>9</th>\n",
       "      <td>9</td>\n",
       "      <td>1.857143</td>\n",
       "      <td>1.399354</td>\n",
       "      <td>97.578041</td>\n",
       "    </tr>\n",
       "    <tr>\n",
       "      <th>7</th>\n",
       "      <td>7</td>\n",
       "      <td>1.571429</td>\n",
       "      <td>1.184069</td>\n",
       "      <td>98.762110</td>\n",
       "    </tr>\n",
       "    <tr>\n",
       "      <th>5</th>\n",
       "      <td>5</td>\n",
       "      <td>1.000000</td>\n",
       "      <td>0.753498</td>\n",
       "      <td>99.515608</td>\n",
       "    </tr>\n",
       "    <tr>\n",
       "      <th>4</th>\n",
       "      <td>4</td>\n",
       "      <td>0.642857</td>\n",
       "      <td>0.484392</td>\n",
       "      <td>100.000000</td>\n",
       "    </tr>\n",
       "  </tbody>\n",
       "</table>\n",
       "</div>"
      ]
     },
     "execution_count": 357,
     "metadata": {},
     "output_type": "execute_result"
    }
   ],
   "execution_count": 357
  },
  {
   "metadata": {},
   "cell_type": "markdown",
   "source": "*В период времени с 18:00 до 01:00 делается более 50% всех суточных заказов*",
   "id": "d6274d43f38b1380"
  },
  {
   "metadata": {},
   "cell_type": "markdown",
   "source": "#### # 4 - Рассчитаем какой процент всех пустых поездок за двухнедельный период пришелся на выходные (с 17:00 Пятницы до 15:00 Воскресенья)",
   "id": "44db7257c5360143"
  },
  {
   "metadata": {
    "ExecuteTime": {
     "end_time": "2024-04-15T19:06:28.285461Z",
     "start_time": "2024-04-15T19:06:28.279308Z"
    }
   },
   "cell_type": "code",
   "source": [
    "# total zeroes in the dataset\n",
    "total_zeroes = df['Zeroes'].sum()\n",
    "print('Total zeroes in dataset: ', total_zeroes)"
   ],
   "id": "78131bfd420b0eab",
   "outputs": [
    {
     "name": "stdout",
     "output_type": "stream",
     "text": [
      "Total zeroes in dataset:  1429\n"
     ]
    }
   ],
   "execution_count": 358
  },
  {
   "metadata": {
    "ExecuteTime": {
     "end_time": "2024-04-15T19:06:28.297354Z",
     "start_time": "2024-04-15T19:06:28.287469Z"
    }
   },
   "cell_type": "code",
   "source": [
    "weekend_zeroes_pct = (df[((df['Date'].dt.dayofweek == 4) & (df['Time (Local)'] >= 17)) |\n",
    "                          (df['Date'].dt.dayofweek == 5) |\n",
    "                          ((df['Date'].dt.dayofweek == 6) & (df['Time (Local)'] < 3))][\n",
    "                           'Zeroes'].sum() / total_zeroes * 100).round(2)\n",
    "print(f'Процент пустых заказов в выходные: {weekend_zeroes_perc} %')"
   ],
   "id": "2207011e6b997e36",
   "outputs": [
    {
     "name": "stdout",
     "output_type": "stream",
     "text": [
      "Процент пустых заказов в выходные: 44.86 %\n"
     ]
    }
   ],
   "execution_count": 359
  },
  {
   "metadata": {},
   "cell_type": "markdown",
   "source": "#### # 5 - Каково средневзвешенное соотношение выполненных поездок на одного водителя за двухнедельный период?",
   "id": "41477a49e813364d"
  },
  {
   "metadata": {
    "ExecuteTime": {
     "end_time": "2024-04-15T19:06:28.305713Z",
     "start_time": "2024-04-15T19:06:28.300365Z"
    }
   },
   "cell_type": "code",
   "source": [
    "# Calculate ratio\n",
    "df['completed_trip_per_driver'] = df['Completed Trips'] / df['Unique Drivers']"
   ],
   "id": "17c235a4ecc11b0",
   "outputs": [],
   "execution_count": 360
  },
  {
   "metadata": {
    "ExecuteTime": {
     "end_time": "2024-04-15T19:06:28.322281Z",
     "start_time": "2024-04-15T19:06:28.316735Z"
    }
   },
   "cell_type": "code",
   "source": [
    "# Drop rows with NaN\n",
    "df_5 = df[df['Unique Drivers'] > 0]"
   ],
   "id": "838ae5c003c7affb",
   "outputs": [],
   "execution_count": 361
  },
  {
   "metadata": {
    "ExecuteTime": {
     "end_time": "2024-04-15T19:06:28.412328Z",
     "start_time": "2024-04-15T19:06:28.405236Z"
    }
   },
   "cell_type": "code",
   "source": [
    "# Calculate wighted average\n",
    "w_av_ratio_without_zero_drivers = np.average(df_5['completed_trip_per_driver'], weights=df_5['Completed Trips'])\n",
    "print('Weighted Average Ratio Without Zero Unique Drivers: ', w_av_ratio_without_zero_drivers)"
   ],
   "id": "6081651ae009e704",
   "outputs": [
    {
     "name": "stdout",
     "output_type": "stream",
     "text": [
      "Weighted Average Ratio Without Zero Unique Drivers:  0.8282775715092395\n"
     ]
    }
   ],
   "execution_count": 362
  },
  {
   "metadata": {
    "ExecuteTime": {
     "end_time": "2024-04-15T19:06:28.449398Z",
     "start_time": "2024-04-15T19:06:28.443284Z"
    }
   },
   "cell_type": "code",
   "source": [
    "normal_av_ratio_without_zero_drivers = np.average(df_5['completed_trip_per_driver'])\n",
    "print('Normal Average Ratio Without Zero Unique Drivers: ', normal_av_ratio_without_zero_drivers)"
   ],
   "id": "918428f3cb5a348",
   "outputs": [
    {
     "name": "stdout",
     "output_type": "stream",
     "text": [
      "Normal Average Ratio Without Zero Unique Drivers:  0.4743397876937869\n"
     ]
    }
   ],
   "execution_count": 363
  },
  {
   "metadata": {},
   "cell_type": "markdown",
   "source": "#### # 6 - В какой 8 часовой интервал времени поступило больше всего заказов? (за какую дату)",
   "id": "416719d568b82937"
  },
  {
   "metadata": {
    "ExecuteTime": {
     "end_time": "2024-04-15T19:06:28.547488Z",
     "start_time": "2024-04-15T19:06:28.539358Z"
    }
   },
   "cell_type": "code",
   "source": [
    "# set Timestamp as Index and resample as 8h Interval with sum all values\n",
    "df_6 = df.set_index('Timestamp').select_dtypes(include=['number']).resample('8H').sum()"
   ],
   "id": "bf52c943f5264cb9",
   "outputs": [],
   "execution_count": 364
  },
  {
   "metadata": {
    "ExecuteTime": {
     "end_time": "2024-04-15T19:06:28.627579Z",
     "start_time": "2024-04-15T19:06:28.619692Z"
    }
   },
   "cell_type": "code",
   "source": [
    "# Create Column Time Interval with string type\n",
    "time_format = '%Y-%m-%d %H:%M:%S'\n",
    "df_6['Time Interval'] = df_6.index.strftime(time_format) + ' - ' + (df_6.index + pd.Timedelta('8 hours')).strftime(\n",
    "    time_format)"
   ],
   "id": "6fe3ddd39cdd5014",
   "outputs": [],
   "execution_count": 365
  },
  {
   "metadata": {
    "ExecuteTime": {
     "end_time": "2024-04-15T19:06:28.681486Z",
     "start_time": "2024-04-15T19:06:28.665823Z"
    }
   },
   "cell_type": "code",
   "source": [
    "# Choose maximum value\n",
    "df_6.nlargest(1, 'Requests')"
   ],
   "id": "f28df1668110b8a0",
   "outputs": [
    {
     "data": {
      "text/plain": [
       "                     Time (Local)  Eyeballs  Zeroes  Completed Trips  \\\n",
       "Timestamp                                                              \n",
       "2012-09-21 16:00:00           156       515      88              153   \n",
       "\n",
       "                     Requests  Unique Drivers  completed_trip_per_driver  \\\n",
       "Timestamp                                                                  \n",
       "2012-09-21 16:00:00       192             198                   6.357265   \n",
       "\n",
       "                                                 Time Interval  \n",
       "Timestamp                                                       \n",
       "2012-09-21 16:00:00  2012-09-21 16:00:00 - 2012-09-22 00:00:00  "
      ],
      "text/html": [
       "<div>\n",
       "<style scoped>\n",
       "    .dataframe tbody tr th:only-of-type {\n",
       "        vertical-align: middle;\n",
       "    }\n",
       "\n",
       "    .dataframe tbody tr th {\n",
       "        vertical-align: top;\n",
       "    }\n",
       "\n",
       "    .dataframe thead th {\n",
       "        text-align: right;\n",
       "    }\n",
       "</style>\n",
       "<table border=\"1\" class=\"dataframe\">\n",
       "  <thead>\n",
       "    <tr style=\"text-align: right;\">\n",
       "      <th></th>\n",
       "      <th>Time (Local)</th>\n",
       "      <th>Eyeballs</th>\n",
       "      <th>Zeroes</th>\n",
       "      <th>Completed Trips</th>\n",
       "      <th>Requests</th>\n",
       "      <th>Unique Drivers</th>\n",
       "      <th>completed_trip_per_driver</th>\n",
       "      <th>Time Interval</th>\n",
       "    </tr>\n",
       "    <tr>\n",
       "      <th>Timestamp</th>\n",
       "      <th></th>\n",
       "      <th></th>\n",
       "      <th></th>\n",
       "      <th></th>\n",
       "      <th></th>\n",
       "      <th></th>\n",
       "      <th></th>\n",
       "      <th></th>\n",
       "    </tr>\n",
       "  </thead>\n",
       "  <tbody>\n",
       "    <tr>\n",
       "      <th>2012-09-21 16:00:00</th>\n",
       "      <td>156</td>\n",
       "      <td>515</td>\n",
       "      <td>88</td>\n",
       "      <td>153</td>\n",
       "      <td>192</td>\n",
       "      <td>198</td>\n",
       "      <td>6.357265</td>\n",
       "      <td>2012-09-21 16:00:00 - 2012-09-22 00:00:00</td>\n",
       "    </tr>\n",
       "  </tbody>\n",
       "</table>\n",
       "</div>"
      ]
     },
     "execution_count": 366,
     "metadata": {},
     "output_type": "execute_result"
    }
   ],
   "execution_count": 366
  },
  {
   "metadata": {},
   "cell_type": "markdown",
   "source": "*В данный интервал времени - 2012-09-21 16:00:00 - 2012-09-22 00:00:00 поступило наибольшее количество запросов.*",
   "id": "f5d95e83c0b46d5f"
  },
  {
   "metadata": {},
   "cell_type": "markdown",
   "source": "#### # 7 - Увеличивается ли предложение водителей при росте спроса на поездки?",
   "id": "58ab47fc7ebf3f92"
  },
  {
   "metadata": {},
   "cell_type": "code",
   "outputs": [],
   "execution_count": null,
   "source": "",
   "id": "65fef84339777e7"
  }
 ],
 "metadata": {
  "kernelspec": {
   "display_name": "Python 3",
   "language": "python",
   "name": "python3"
  },
  "language_info": {
   "codemirror_mode": {
    "name": "ipython",
    "version": 2
   },
   "file_extension": ".py",
   "mimetype": "text/x-python",
   "name": "python",
   "nbconvert_exporter": "python",
   "pygments_lexer": "ipython2",
   "version": "2.7.6"
  }
 },
 "nbformat": 4,
 "nbformat_minor": 5
}
